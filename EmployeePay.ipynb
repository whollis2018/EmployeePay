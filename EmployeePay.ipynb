{
 "cells": [
  {
   "cell_type": "code",
   "execution_count": 2,
   "metadata": {},
   "outputs": [],
   "source": [
    "##employeepay"
   ]
  },
  {
   "cell_type": "code",
   "execution_count": 3,
   "metadata": {},
   "outputs": [],
   "source": [
    "data=[{'id':'001','name':'Mary','pay_rate':15.00,'hour':40},\n",
    "     {'id':'002','name':'John','pay_rate':22.00,'hour':25},\n",
    "     {'id':'003','name':'Bob','pay_rate':35.00,'hour':4},\n",
    "     {'id':'004','name':'Mel','pay_rate':43.00,'hour':62}]"
   ]
  },
  {
   "cell_type": "code",
   "execution_count": 4,
   "metadata": {},
   "outputs": [
    {
     "data": {
      "text/plain": [
       "[{'id': '001', 'name': 'Mary', 'pay_rate': 15.0, 'hour': 40},\n",
       " {'id': '002', 'name': 'John', 'pay_rate': 22.0, 'hour': 25},\n",
       " {'id': '003', 'name': 'Bob', 'pay_rate': 35.0, 'hour': 4},\n",
       " {'id': '004', 'name': 'Mel', 'pay_rate': 43.0, 'hour': 62}]"
      ]
     },
     "execution_count": 4,
     "metadata": {},
     "output_type": "execute_result"
    }
   ],
   "source": [
    "data"
   ]
  },
  {
   "cell_type": "code",
   "execution_count": 5,
   "metadata": {},
   "outputs": [
    {
     "data": {
      "text/plain": [
       "list"
      ]
     },
     "execution_count": 5,
     "metadata": {},
     "output_type": "execute_result"
    }
   ],
   "source": [
    "type(data)"
   ]
  },
  {
   "cell_type": "code",
   "execution_count": 6,
   "metadata": {},
   "outputs": [
    {
     "data": {
      "text/plain": [
       "{'id': '001', 'name': 'Mary', 'pay_rate': 15.0, 'hour': 40}"
      ]
     },
     "execution_count": 6,
     "metadata": {},
     "output_type": "execute_result"
    }
   ],
   "source": [
    "data[0]"
   ]
  },
  {
   "cell_type": "code",
   "execution_count": 7,
   "metadata": {},
   "outputs": [
    {
     "data": {
      "text/plain": [
       "{'id': '002', 'name': 'John', 'pay_rate': 22.0, 'hour': 25}"
      ]
     },
     "execution_count": 7,
     "metadata": {},
     "output_type": "execute_result"
    }
   ],
   "source": [
    "data[1]"
   ]
  },
  {
   "cell_type": "code",
   "execution_count": 8,
   "metadata": {},
   "outputs": [
    {
     "data": {
      "text/plain": [
       "{'id': '003', 'name': 'Bob', 'pay_rate': 35.0, 'hour': 4}"
      ]
     },
     "execution_count": 8,
     "metadata": {},
     "output_type": "execute_result"
    }
   ],
   "source": [
    "data[2]"
   ]
  },
  {
   "cell_type": "code",
   "execution_count": 12,
   "metadata": {},
   "outputs": [
    {
     "data": {
      "text/plain": [
       "4"
      ]
     },
     "execution_count": 12,
     "metadata": {},
     "output_type": "execute_result"
    }
   ],
   "source": [
    "len(data)\n",
    "    "
   ]
  },
  {
   "cell_type": "code",
   "execution_count": 11,
   "metadata": {},
   "outputs": [
    {
     "name": "stdout",
     "output_type": "stream",
     "text": [
      "{'id': '001', 'name': 'Mary', 'pay_rate': 15.0, 'hour': 40}\n",
      "{'id': '002', 'name': 'John', 'pay_rate': 22.0, 'hour': 25}\n",
      "{'id': '003', 'name': 'Bob', 'pay_rate': 35.0, 'hour': 4}\n",
      "{'id': '004', 'name': 'Mel', 'pay_rate': 43.0, 'hour': 62}\n"
     ]
    }
   ],
   "source": [
    "for i in data:\n",
    "    print(i)"
   ]
  },
  {
   "cell_type": "code",
   "execution_count": 13,
   "metadata": {},
   "outputs": [
    {
     "name": "stdout",
     "output_type": "stream",
     "text": [
      "0\n",
      "1\n",
      "2\n",
      "3\n"
     ]
    }
   ],
   "source": [
    "for i in range(4):\n",
    "    print(i)"
   ]
  },
  {
   "cell_type": "code",
   "execution_count": 24,
   "metadata": {},
   "outputs": [
    {
     "name": "stdout",
     "output_type": "stream",
     "text": [
      "40\n",
      "25\n",
      "4\n",
      "62\n"
     ]
    }
   ],
   "source": [
    "for wanida in data:\n",
    "     print(wanida['hour'])\n",
    "  "
   ]
  },
  {
   "cell_type": "code",
   "execution_count": null,
   "metadata": {},
   "outputs": [],
   "source": [
    "for employee in data:\n",
    "    if data[]['hours']"
   ]
  },
  {
   "cell_type": "code",
   "execution_count": 19,
   "metadata": {},
   "outputs": [
    {
     "data": {
      "text/plain": [
       "40"
      ]
     },
     "execution_count": 19,
     "metadata": {},
     "output_type": "execute_result"
    }
   ],
   "source": [
    "data[0]['hour']"
   ]
  },
  {
   "cell_type": "code",
   "execution_count": 26,
   "metadata": {},
   "outputs": [
    {
     "name": "stdout",
     "output_type": "stream",
     "text": [
      "15.0\n",
      "22.0\n",
      "35.0\n",
      "43.0\n"
     ]
    }
   ],
   "source": [
    "for employee in data:\n",
    "    print(employee['pay_rate'])"
   ]
  },
  {
   "cell_type": "code",
   "execution_count": 31,
   "metadata": {},
   "outputs": [
    {
     "name": "stdout",
     "output_type": "stream",
     "text": [
      "Mary\n",
      "John\n",
      "Bob\n",
      "Mel\n"
     ]
    }
   ],
   "source": [
    "a=5\n",
    "if a==5:\n",
    "    for employee in data: \n",
    "        print(employee['name'])\n",
    " "
   ]
  },
  {
   "cell_type": "code",
   "execution_count": 32,
   "metadata": {},
   "outputs": [
    {
     "name": "stdout",
     "output_type": "stream",
     "text": [
      "15.0\n",
      "22.0\n",
      "35.0\n",
      "43.0\n"
     ]
    }
   ],
   "source": [
    "for employee in data: \n",
    "    print (employee['pay_rate'])"
   ]
  },
  {
   "cell_type": "code",
   "execution_count": 40,
   "metadata": {},
   "outputs": [
    {
     "name": "stdout",
     "output_type": "stream",
     "text": [
      "600.0\n",
      "550.0\n",
      "140.0\n"
     ]
    }
   ],
   "source": [
    "for employee in data:\n",
    "    if employee['hour'] <= 40:\n",
    "        print(employee['pay_rate'] * employee['hour'])"
   ]
  },
  {
   "cell_type": "code",
   "execution_count": 49,
   "metadata": {},
   "outputs": [
    {
     "name": "stdout",
     "output_type": "stream",
     "text": [
      "Mary: $ 600.0\n",
      "John: $ 550.0\n",
      "Bob: $ 140.0\n",
      "Mel: $ 4085.0\n"
     ]
    }
   ],
   "source": [
    "for employee in data:\n",
    "    if employee['hour']>=40:\n",
    "            salary=employee['pay_rate'] * employee['hour']+ (employee['hour']-40)*1.5 *employee['pay_rate'] \n",
    "    else: \n",
    "            salary=employee['pay_rate'] * employee['hour']\n",
    "    print(employee['name']+': $', salary)"
   ]
  },
  {
   "cell_type": "code",
   "execution_count": null,
   "metadata": {},
   "outputs": [],
   "source": []
  }
 ],
 "metadata": {
  "kernelspec": {
   "display_name": "Python 3",
   "language": "python",
   "name": "python3"
  },
  "language_info": {
   "codemirror_mode": {
    "name": "ipython",
    "version": 3
   },
   "file_extension": ".py",
   "mimetype": "text/x-python",
   "name": "python",
   "nbconvert_exporter": "python",
   "pygments_lexer": "ipython3",
   "version": "3.7.1"
  }
 },
 "nbformat": 4,
 "nbformat_minor": 2
}
